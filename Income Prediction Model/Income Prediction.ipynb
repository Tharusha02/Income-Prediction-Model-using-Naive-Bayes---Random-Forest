{
 "cells": [
  {
   "cell_type": "code",
   "execution_count": 1,
   "id": "initial_id",
   "metadata": {
    "collapsed": true,
    "ExecuteTime": {
     "end_time": "2024-03-28T02:33:09.127195100Z",
     "start_time": "2024-03-28T02:33:09.103858200Z"
    }
   },
   "outputs": [],
   "source": [
    "#Installing the repository\n",
    "#!pip install ucimlrepo"
   ]
  },
  {
   "cell_type": "code",
   "execution_count": 2,
   "outputs": [],
   "source": [
    "#Importing libraries\n",
    "import pandas as pd\n",
    "import matplotlib.pyplot as plt\n",
    "import seaborn as sns\n",
    "import numpy as np\n",
    "\n",
    "from sklearn.model_selection import train_test_split\n",
    "from sklearn.preprocessing import LabelEncoder\n",
    "from sklearn.naive_bayes import GaussianNB\n",
    "from sklearn.ensemble import RandomForestClassifier\n",
    "from sklearn.metrics import accuracy_score, classification_report, confusion_matrix\n",
    "from sklearn.impute import SimpleImputer\n",
    "from sklearn.preprocessing import OneHotEncoder"
   ],
   "metadata": {
    "collapsed": false,
    "ExecuteTime": {
     "end_time": "2024-03-28T02:33:11.210791700Z",
     "start_time": "2024-03-28T02:33:09.115680600Z"
    }
   },
   "id": "a22b75157ad1277d"
  },
  {
   "cell_type": "markdown",
   "source": [
    "# Importing the Dataset"
   ],
   "metadata": {
    "collapsed": false
   },
   "id": "4e6a481e1db82bff"
  },
  {
   "cell_type": "code",
   "execution_count": 3,
   "outputs": [
    {
     "name": "stdout",
     "output_type": "stream",
     "text": [
      "{'uci_id': 2, 'name': 'Adult', 'repository_url': 'https://archive.ics.uci.edu/dataset/2/adult', 'data_url': 'https://archive.ics.uci.edu/static/public/2/data.csv', 'abstract': 'Predict whether income exceeds $50K/yr based on census data. Also known as \"Census Income\" dataset. ', 'area': 'Social Science', 'tasks': ['Classification'], 'characteristics': ['Multivariate'], 'num_instances': 48842, 'num_features': 14, 'feature_types': ['Categorical', 'Integer'], 'demographics': ['Age', 'Income', 'Education Level', 'Other', 'Race', 'Sex'], 'target_col': ['income'], 'index_col': None, 'has_missing_values': 'yes', 'missing_values_symbol': 'NaN', 'year_of_dataset_creation': 1996, 'last_updated': 'Mon Aug 07 2023', 'dataset_doi': '10.24432/C5XW20', 'creators': ['Barry Becker', 'Ronny Kohavi'], 'intro_paper': None, 'additional_info': {'summary': 'Extraction was done by Barry Becker from the 1994 Census database.  A set of reasonably clean records was extracted using the following conditions: ((AAGE>16) && (AGI>100) && (AFNLWGT>1)&& (HRSWK>0))\\r\\n\\r\\nPrediction task is to determine whether a person makes over 50K a year.\\r\\n', 'purpose': None, 'funded_by': None, 'instances_represent': None, 'recommended_data_splits': None, 'sensitive_data': None, 'preprocessing_description': None, 'variable_info': 'Listing of attributes:\\r\\n\\r\\n>50K, <=50K.\\r\\n\\r\\nage: continuous.\\r\\nworkclass: Private, Self-emp-not-inc, Self-emp-inc, Federal-gov, Local-gov, State-gov, Without-pay, Never-worked.\\r\\nfnlwgt: continuous.\\r\\neducation: Bachelors, Some-college, 11th, HS-grad, Prof-school, Assoc-acdm, Assoc-voc, 9th, 7th-8th, 12th, Masters, 1st-4th, 10th, Doctorate, 5th-6th, Preschool.\\r\\neducation-num: continuous.\\r\\nmarital-status: Married-civ-spouse, Divorced, Never-married, Separated, Widowed, Married-spouse-absent, Married-AF-spouse.\\r\\noccupation: Tech-support, Craft-repair, Other-service, Sales, Exec-managerial, Prof-specialty, Handlers-cleaners, Machine-op-inspct, Adm-clerical, Farming-fishing, Transport-moving, Priv-house-serv, Protective-serv, Armed-Forces.\\r\\nrelationship: Wife, Own-child, Husband, Not-in-family, Other-relative, Unmarried.\\r\\nrace: White, Asian-Pac-Islander, Amer-Indian-Eskimo, Other, Black.\\r\\nsex: Female, Male.\\r\\ncapital-gain: continuous.\\r\\ncapital-loss: continuous.\\r\\nhours-per-week: continuous.\\r\\nnative-country: United-States, Cambodia, England, Puerto-Rico, Canada, Germany, Outlying-US(Guam-USVI-etc), India, Japan, Greece, South, China, Cuba, Iran, Honduras, Philippines, Italy, Poland, Jamaica, Vietnam, Mexico, Portugal, Ireland, France, Dominican-Republic, Laos, Ecuador, Taiwan, Haiti, Columbia, Hungary, Guatemala, Nicaragua, Scotland, Thailand, Yugoslavia, El-Salvador, Trinadad&Tobago, Peru, Hong, Holand-Netherlands.', 'citation': None}}\n",
      "              name     role         type      demographic  \\\n",
      "0              age  Feature      Integer              Age   \n",
      "1        workclass  Feature  Categorical           Income   \n",
      "2           fnlwgt  Feature      Integer             None   \n",
      "3        education  Feature  Categorical  Education Level   \n",
      "4    education-num  Feature      Integer  Education Level   \n",
      "5   marital-status  Feature  Categorical            Other   \n",
      "6       occupation  Feature  Categorical            Other   \n",
      "7     relationship  Feature  Categorical            Other   \n",
      "8             race  Feature  Categorical             Race   \n",
      "9              sex  Feature       Binary              Sex   \n",
      "10    capital-gain  Feature      Integer             None   \n",
      "11    capital-loss  Feature      Integer             None   \n",
      "12  hours-per-week  Feature      Integer             None   \n",
      "13  native-country  Feature  Categorical            Other   \n",
      "14          income   Target       Binary           Income   \n",
      "\n",
      "                                          description units missing_values  \n",
      "0                                                 N/A  None             no  \n",
      "1   Private, Self-emp-not-inc, Self-emp-inc, Feder...  None            yes  \n",
      "2                                                None  None             no  \n",
      "3    Bachelors, Some-college, 11th, HS-grad, Prof-...  None             no  \n",
      "4                                                None  None             no  \n",
      "5   Married-civ-spouse, Divorced, Never-married, S...  None             no  \n",
      "6   Tech-support, Craft-repair, Other-service, Sal...  None            yes  \n",
      "7   Wife, Own-child, Husband, Not-in-family, Other...  None             no  \n",
      "8   White, Asian-Pac-Islander, Amer-Indian-Eskimo,...  None             no  \n",
      "9                                       Female, Male.  None             no  \n",
      "10                                               None  None             no  \n",
      "11                                               None  None             no  \n",
      "12                                               None  None             no  \n",
      "13  United-States, Cambodia, England, Puerto-Rico,...  None            yes  \n",
      "14                                       >50K, <=50K.  None             no  \n"
     ]
    }
   ],
   "source": [
    "from ucimlrepo import fetch_ucirepo\n",
    "\n",
    "# fetch dataset\n",
    "adult = fetch_ucirepo(id=2)\n",
    "\n",
    "# data (as pandas dataframes)\n",
    "X = adult.data.features\n",
    "y = adult.data.targets\n",
    "\n",
    "# metadata\n",
    "print(adult.metadata)\n",
    "\n",
    "# variable information\n",
    "print(adult.variables)\n"
   ],
   "metadata": {
    "collapsed": false,
    "ExecuteTime": {
     "end_time": "2024-03-28T02:33:30.835986300Z",
     "start_time": "2024-03-28T02:33:11.213288900Z"
    }
   },
   "id": "e6086366fe000f30"
  },
  {
   "cell_type": "code",
   "execution_count": 4,
   "outputs": [
    {
     "data": {
      "text/plain": "       age         workclass  fnlwgt  education  education-num  \\\n0       39         State-gov   77516  Bachelors             13   \n1       50  Self-emp-not-inc   83311  Bachelors             13   \n2       38           Private  215646    HS-grad              9   \n3       53           Private  234721       11th              7   \n4       28           Private  338409  Bachelors             13   \n...    ...               ...     ...        ...            ...   \n48837   39           Private  215419  Bachelors             13   \n48838   64               NaN  321403    HS-grad              9   \n48839   38           Private  374983  Bachelors             13   \n48840   44           Private   83891  Bachelors             13   \n48841   35      Self-emp-inc  182148  Bachelors             13   \n\n           marital-status         occupation    relationship  \\\n0           Never-married       Adm-clerical   Not-in-family   \n1      Married-civ-spouse    Exec-managerial         Husband   \n2                Divorced  Handlers-cleaners   Not-in-family   \n3      Married-civ-spouse  Handlers-cleaners         Husband   \n4      Married-civ-spouse     Prof-specialty            Wife   \n...                   ...                ...             ...   \n48837            Divorced     Prof-specialty   Not-in-family   \n48838             Widowed                NaN  Other-relative   \n48839  Married-civ-spouse     Prof-specialty         Husband   \n48840            Divorced       Adm-clerical       Own-child   \n48841  Married-civ-spouse    Exec-managerial         Husband   \n\n                     race     sex  capital-gain  capital-loss  hours-per-week  \\\n0                   White    Male          2174             0              40   \n1                   White    Male             0             0              13   \n2                   White    Male             0             0              40   \n3                   Black    Male             0             0              40   \n4                   Black  Female             0             0              40   \n...                   ...     ...           ...           ...             ...   \n48837               White  Female             0             0              36   \n48838               Black    Male             0             0              40   \n48839               White    Male             0             0              50   \n48840  Asian-Pac-Islander    Male          5455             0              40   \n48841               White    Male             0             0              60   \n\n      native-country  income  \n0      United-States   <=50K  \n1      United-States   <=50K  \n2      United-States   <=50K  \n3      United-States   <=50K  \n4               Cuba   <=50K  \n...              ...     ...  \n48837  United-States  <=50K.  \n48838  United-States  <=50K.  \n48839  United-States  <=50K.  \n48840  United-States  <=50K.  \n48841  United-States   >50K.  \n\n[48842 rows x 15 columns]",
      "text/html": "<div>\n<style scoped>\n    .dataframe tbody tr th:only-of-type {\n        vertical-align: middle;\n    }\n\n    .dataframe tbody tr th {\n        vertical-align: top;\n    }\n\n    .dataframe thead th {\n        text-align: right;\n    }\n</style>\n<table border=\"1\" class=\"dataframe\">\n  <thead>\n    <tr style=\"text-align: right;\">\n      <th></th>\n      <th>age</th>\n      <th>workclass</th>\n      <th>fnlwgt</th>\n      <th>education</th>\n      <th>education-num</th>\n      <th>marital-status</th>\n      <th>occupation</th>\n      <th>relationship</th>\n      <th>race</th>\n      <th>sex</th>\n      <th>capital-gain</th>\n      <th>capital-loss</th>\n      <th>hours-per-week</th>\n      <th>native-country</th>\n      <th>income</th>\n    </tr>\n  </thead>\n  <tbody>\n    <tr>\n      <th>0</th>\n      <td>39</td>\n      <td>State-gov</td>\n      <td>77516</td>\n      <td>Bachelors</td>\n      <td>13</td>\n      <td>Never-married</td>\n      <td>Adm-clerical</td>\n      <td>Not-in-family</td>\n      <td>White</td>\n      <td>Male</td>\n      <td>2174</td>\n      <td>0</td>\n      <td>40</td>\n      <td>United-States</td>\n      <td>&lt;=50K</td>\n    </tr>\n    <tr>\n      <th>1</th>\n      <td>50</td>\n      <td>Self-emp-not-inc</td>\n      <td>83311</td>\n      <td>Bachelors</td>\n      <td>13</td>\n      <td>Married-civ-spouse</td>\n      <td>Exec-managerial</td>\n      <td>Husband</td>\n      <td>White</td>\n      <td>Male</td>\n      <td>0</td>\n      <td>0</td>\n      <td>13</td>\n      <td>United-States</td>\n      <td>&lt;=50K</td>\n    </tr>\n    <tr>\n      <th>2</th>\n      <td>38</td>\n      <td>Private</td>\n      <td>215646</td>\n      <td>HS-grad</td>\n      <td>9</td>\n      <td>Divorced</td>\n      <td>Handlers-cleaners</td>\n      <td>Not-in-family</td>\n      <td>White</td>\n      <td>Male</td>\n      <td>0</td>\n      <td>0</td>\n      <td>40</td>\n      <td>United-States</td>\n      <td>&lt;=50K</td>\n    </tr>\n    <tr>\n      <th>3</th>\n      <td>53</td>\n      <td>Private</td>\n      <td>234721</td>\n      <td>11th</td>\n      <td>7</td>\n      <td>Married-civ-spouse</td>\n      <td>Handlers-cleaners</td>\n      <td>Husband</td>\n      <td>Black</td>\n      <td>Male</td>\n      <td>0</td>\n      <td>0</td>\n      <td>40</td>\n      <td>United-States</td>\n      <td>&lt;=50K</td>\n    </tr>\n    <tr>\n      <th>4</th>\n      <td>28</td>\n      <td>Private</td>\n      <td>338409</td>\n      <td>Bachelors</td>\n      <td>13</td>\n      <td>Married-civ-spouse</td>\n      <td>Prof-specialty</td>\n      <td>Wife</td>\n      <td>Black</td>\n      <td>Female</td>\n      <td>0</td>\n      <td>0</td>\n      <td>40</td>\n      <td>Cuba</td>\n      <td>&lt;=50K</td>\n    </tr>\n    <tr>\n      <th>...</th>\n      <td>...</td>\n      <td>...</td>\n      <td>...</td>\n      <td>...</td>\n      <td>...</td>\n      <td>...</td>\n      <td>...</td>\n      <td>...</td>\n      <td>...</td>\n      <td>...</td>\n      <td>...</td>\n      <td>...</td>\n      <td>...</td>\n      <td>...</td>\n      <td>...</td>\n    </tr>\n    <tr>\n      <th>48837</th>\n      <td>39</td>\n      <td>Private</td>\n      <td>215419</td>\n      <td>Bachelors</td>\n      <td>13</td>\n      <td>Divorced</td>\n      <td>Prof-specialty</td>\n      <td>Not-in-family</td>\n      <td>White</td>\n      <td>Female</td>\n      <td>0</td>\n      <td>0</td>\n      <td>36</td>\n      <td>United-States</td>\n      <td>&lt;=50K.</td>\n    </tr>\n    <tr>\n      <th>48838</th>\n      <td>64</td>\n      <td>NaN</td>\n      <td>321403</td>\n      <td>HS-grad</td>\n      <td>9</td>\n      <td>Widowed</td>\n      <td>NaN</td>\n      <td>Other-relative</td>\n      <td>Black</td>\n      <td>Male</td>\n      <td>0</td>\n      <td>0</td>\n      <td>40</td>\n      <td>United-States</td>\n      <td>&lt;=50K.</td>\n    </tr>\n    <tr>\n      <th>48839</th>\n      <td>38</td>\n      <td>Private</td>\n      <td>374983</td>\n      <td>Bachelors</td>\n      <td>13</td>\n      <td>Married-civ-spouse</td>\n      <td>Prof-specialty</td>\n      <td>Husband</td>\n      <td>White</td>\n      <td>Male</td>\n      <td>0</td>\n      <td>0</td>\n      <td>50</td>\n      <td>United-States</td>\n      <td>&lt;=50K.</td>\n    </tr>\n    <tr>\n      <th>48840</th>\n      <td>44</td>\n      <td>Private</td>\n      <td>83891</td>\n      <td>Bachelors</td>\n      <td>13</td>\n      <td>Divorced</td>\n      <td>Adm-clerical</td>\n      <td>Own-child</td>\n      <td>Asian-Pac-Islander</td>\n      <td>Male</td>\n      <td>5455</td>\n      <td>0</td>\n      <td>40</td>\n      <td>United-States</td>\n      <td>&lt;=50K.</td>\n    </tr>\n    <tr>\n      <th>48841</th>\n      <td>35</td>\n      <td>Self-emp-inc</td>\n      <td>182148</td>\n      <td>Bachelors</td>\n      <td>13</td>\n      <td>Married-civ-spouse</td>\n      <td>Exec-managerial</td>\n      <td>Husband</td>\n      <td>White</td>\n      <td>Male</td>\n      <td>0</td>\n      <td>0</td>\n      <td>60</td>\n      <td>United-States</td>\n      <td>&gt;50K.</td>\n    </tr>\n  </tbody>\n</table>\n<p>48842 rows × 15 columns</p>\n</div>"
     },
     "execution_count": 4,
     "metadata": {},
     "output_type": "execute_result"
    }
   ],
   "source": [
    "#Concatanating the feature & target values into a single dataframe\n",
    "df = pd.concat([X, pd.DataFrame(y, columns=['income'])], axis=1)\n",
    "df"
   ],
   "metadata": {
    "collapsed": false,
    "ExecuteTime": {
     "end_time": "2024-03-28T02:33:30.931369800Z",
     "start_time": "2024-03-28T02:33:30.834898700Z"
    }
   },
   "id": "da44b8e1976e63ed"
  },
  {
   "cell_type": "code",
   "execution_count": 4,
   "outputs": [],
   "source": [],
   "metadata": {
    "collapsed": false,
    "ExecuteTime": {
     "end_time": "2024-03-28T02:33:30.940977600Z",
     "start_time": "2024-03-28T02:33:30.882909900Z"
    }
   },
   "id": "3792c46e165ced04"
  },
  {
   "cell_type": "markdown",
   "source": [
    "# Data Exploration"
   ],
   "metadata": {
    "collapsed": false
   },
   "id": "d37493939de255a6"
  },
  {
   "cell_type": "code",
   "execution_count": 5,
   "outputs": [
    {
     "data": {
      "text/plain": "(48842, 15)"
     },
     "execution_count": 5,
     "metadata": {},
     "output_type": "execute_result"
    }
   ],
   "source": [
    "df.shape"
   ],
   "metadata": {
    "collapsed": false,
    "ExecuteTime": {
     "end_time": "2024-03-28T02:33:31.028419700Z",
     "start_time": "2024-03-28T02:33:30.899644100Z"
    }
   },
   "id": "bbaf3f53dbebc584"
  },
  {
   "cell_type": "code",
   "execution_count": 6,
   "outputs": [
    {
     "data": {
      "text/plain": "   age         workclass  fnlwgt  education  education-num  \\\n0   39         State-gov   77516  Bachelors             13   \n1   50  Self-emp-not-inc   83311  Bachelors             13   \n2   38           Private  215646    HS-grad              9   \n3   53           Private  234721       11th              7   \n4   28           Private  338409  Bachelors             13   \n\n       marital-status         occupation   relationship   race     sex  \\\n0       Never-married       Adm-clerical  Not-in-family  White    Male   \n1  Married-civ-spouse    Exec-managerial        Husband  White    Male   \n2            Divorced  Handlers-cleaners  Not-in-family  White    Male   \n3  Married-civ-spouse  Handlers-cleaners        Husband  Black    Male   \n4  Married-civ-spouse     Prof-specialty           Wife  Black  Female   \n\n   capital-gain  capital-loss  hours-per-week native-country income  \n0          2174             0              40  United-States  <=50K  \n1             0             0              13  United-States  <=50K  \n2             0             0              40  United-States  <=50K  \n3             0             0              40  United-States  <=50K  \n4             0             0              40           Cuba  <=50K  ",
      "text/html": "<div>\n<style scoped>\n    .dataframe tbody tr th:only-of-type {\n        vertical-align: middle;\n    }\n\n    .dataframe tbody tr th {\n        vertical-align: top;\n    }\n\n    .dataframe thead th {\n        text-align: right;\n    }\n</style>\n<table border=\"1\" class=\"dataframe\">\n  <thead>\n    <tr style=\"text-align: right;\">\n      <th></th>\n      <th>age</th>\n      <th>workclass</th>\n      <th>fnlwgt</th>\n      <th>education</th>\n      <th>education-num</th>\n      <th>marital-status</th>\n      <th>occupation</th>\n      <th>relationship</th>\n      <th>race</th>\n      <th>sex</th>\n      <th>capital-gain</th>\n      <th>capital-loss</th>\n      <th>hours-per-week</th>\n      <th>native-country</th>\n      <th>income</th>\n    </tr>\n  </thead>\n  <tbody>\n    <tr>\n      <th>0</th>\n      <td>39</td>\n      <td>State-gov</td>\n      <td>77516</td>\n      <td>Bachelors</td>\n      <td>13</td>\n      <td>Never-married</td>\n      <td>Adm-clerical</td>\n      <td>Not-in-family</td>\n      <td>White</td>\n      <td>Male</td>\n      <td>2174</td>\n      <td>0</td>\n      <td>40</td>\n      <td>United-States</td>\n      <td>&lt;=50K</td>\n    </tr>\n    <tr>\n      <th>1</th>\n      <td>50</td>\n      <td>Self-emp-not-inc</td>\n      <td>83311</td>\n      <td>Bachelors</td>\n      <td>13</td>\n      <td>Married-civ-spouse</td>\n      <td>Exec-managerial</td>\n      <td>Husband</td>\n      <td>White</td>\n      <td>Male</td>\n      <td>0</td>\n      <td>0</td>\n      <td>13</td>\n      <td>United-States</td>\n      <td>&lt;=50K</td>\n    </tr>\n    <tr>\n      <th>2</th>\n      <td>38</td>\n      <td>Private</td>\n      <td>215646</td>\n      <td>HS-grad</td>\n      <td>9</td>\n      <td>Divorced</td>\n      <td>Handlers-cleaners</td>\n      <td>Not-in-family</td>\n      <td>White</td>\n      <td>Male</td>\n      <td>0</td>\n      <td>0</td>\n      <td>40</td>\n      <td>United-States</td>\n      <td>&lt;=50K</td>\n    </tr>\n    <tr>\n      <th>3</th>\n      <td>53</td>\n      <td>Private</td>\n      <td>234721</td>\n      <td>11th</td>\n      <td>7</td>\n      <td>Married-civ-spouse</td>\n      <td>Handlers-cleaners</td>\n      <td>Husband</td>\n      <td>Black</td>\n      <td>Male</td>\n      <td>0</td>\n      <td>0</td>\n      <td>40</td>\n      <td>United-States</td>\n      <td>&lt;=50K</td>\n    </tr>\n    <tr>\n      <th>4</th>\n      <td>28</td>\n      <td>Private</td>\n      <td>338409</td>\n      <td>Bachelors</td>\n      <td>13</td>\n      <td>Married-civ-spouse</td>\n      <td>Prof-specialty</td>\n      <td>Wife</td>\n      <td>Black</td>\n      <td>Female</td>\n      <td>0</td>\n      <td>0</td>\n      <td>40</td>\n      <td>Cuba</td>\n      <td>&lt;=50K</td>\n    </tr>\n  </tbody>\n</table>\n</div>"
     },
     "execution_count": 6,
     "metadata": {},
     "output_type": "execute_result"
    }
   ],
   "source": [
    "df.head()"
   ],
   "metadata": {
    "collapsed": false,
    "ExecuteTime": {
     "end_time": "2024-03-28T02:33:31.052287300Z",
     "start_time": "2024-03-28T02:33:30.912528900Z"
    }
   },
   "id": "b716e7475cd7d746"
  },
  {
   "cell_type": "code",
   "execution_count": 7,
   "outputs": [
    {
     "name": "stdout",
     "output_type": "stream",
     "text": [
      "<class 'pandas.core.frame.DataFrame'>\n",
      "RangeIndex: 48842 entries, 0 to 48841\n",
      "Data columns (total 15 columns):\n",
      " #   Column          Non-Null Count  Dtype \n",
      "---  ------          --------------  ----- \n",
      " 0   age             48842 non-null  int64 \n",
      " 1   workclass       47879 non-null  object\n",
      " 2   fnlwgt          48842 non-null  int64 \n",
      " 3   education       48842 non-null  object\n",
      " 4   education-num   48842 non-null  int64 \n",
      " 5   marital-status  48842 non-null  object\n",
      " 6   occupation      47876 non-null  object\n",
      " 7   relationship    48842 non-null  object\n",
      " 8   race            48842 non-null  object\n",
      " 9   sex             48842 non-null  object\n",
      " 10  capital-gain    48842 non-null  int64 \n",
      " 11  capital-loss    48842 non-null  int64 \n",
      " 12  hours-per-week  48842 non-null  int64 \n",
      " 13  native-country  48568 non-null  object\n",
      " 14  income          48842 non-null  object\n",
      "dtypes: int64(6), object(9)\n",
      "memory usage: 5.6+ MB\n"
     ]
    }
   ],
   "source": [
    "df.info()"
   ],
   "metadata": {
    "collapsed": false,
    "ExecuteTime": {
     "end_time": "2024-03-28T02:33:31.101605Z",
     "start_time": "2024-03-28T02:33:30.944111100Z"
    }
   },
   "id": "f9145d0f9ad015bc"
  },
  {
   "cell_type": "code",
   "execution_count": 8,
   "outputs": [
    {
     "data": {
      "text/plain": "age                 0\nworkclass         963\nfnlwgt              0\neducation           0\neducation-num       0\nmarital-status      0\noccupation        966\nrelationship        0\nrace                0\nsex                 0\ncapital-gain        0\ncapital-loss        0\nhours-per-week      0\nnative-country    274\nincome              0\ndtype: int64"
     },
     "execution_count": 8,
     "metadata": {},
     "output_type": "execute_result"
    }
   ],
   "source": [
    "df.isna().sum()"
   ],
   "metadata": {
    "collapsed": false,
    "ExecuteTime": {
     "end_time": "2024-03-28T02:33:31.184328600Z",
     "start_time": "2024-03-28T02:33:30.991965Z"
    }
   },
   "id": "b7b9b1070ee2c5df"
  },
  {
   "cell_type": "code",
   "execution_count": 9,
   "outputs": [
    {
     "data": {
      "text/plain": "                age        fnlwgt  education-num  capital-gain  capital-loss  \\\ncount  48842.000000  4.884200e+04   48842.000000  48842.000000  48842.000000   \nmean      38.643585  1.896641e+05      10.078089   1079.067626     87.502314   \nstd       13.710510  1.056040e+05       2.570973   7452.019058    403.004552   \nmin       17.000000  1.228500e+04       1.000000      0.000000      0.000000   \n25%       28.000000  1.175505e+05       9.000000      0.000000      0.000000   \n50%       37.000000  1.781445e+05      10.000000      0.000000      0.000000   \n75%       48.000000  2.376420e+05      12.000000      0.000000      0.000000   \nmax       90.000000  1.490400e+06      16.000000  99999.000000   4356.000000   \n\n       hours-per-week  \ncount    48842.000000  \nmean        40.422382  \nstd         12.391444  \nmin          1.000000  \n25%         40.000000  \n50%         40.000000  \n75%         45.000000  \nmax         99.000000  ",
      "text/html": "<div>\n<style scoped>\n    .dataframe tbody tr th:only-of-type {\n        vertical-align: middle;\n    }\n\n    .dataframe tbody tr th {\n        vertical-align: top;\n    }\n\n    .dataframe thead th {\n        text-align: right;\n    }\n</style>\n<table border=\"1\" class=\"dataframe\">\n  <thead>\n    <tr style=\"text-align: right;\">\n      <th></th>\n      <th>age</th>\n      <th>fnlwgt</th>\n      <th>education-num</th>\n      <th>capital-gain</th>\n      <th>capital-loss</th>\n      <th>hours-per-week</th>\n    </tr>\n  </thead>\n  <tbody>\n    <tr>\n      <th>count</th>\n      <td>48842.000000</td>\n      <td>4.884200e+04</td>\n      <td>48842.000000</td>\n      <td>48842.000000</td>\n      <td>48842.000000</td>\n      <td>48842.000000</td>\n    </tr>\n    <tr>\n      <th>mean</th>\n      <td>38.643585</td>\n      <td>1.896641e+05</td>\n      <td>10.078089</td>\n      <td>1079.067626</td>\n      <td>87.502314</td>\n      <td>40.422382</td>\n    </tr>\n    <tr>\n      <th>std</th>\n      <td>13.710510</td>\n      <td>1.056040e+05</td>\n      <td>2.570973</td>\n      <td>7452.019058</td>\n      <td>403.004552</td>\n      <td>12.391444</td>\n    </tr>\n    <tr>\n      <th>min</th>\n      <td>17.000000</td>\n      <td>1.228500e+04</td>\n      <td>1.000000</td>\n      <td>0.000000</td>\n      <td>0.000000</td>\n      <td>1.000000</td>\n    </tr>\n    <tr>\n      <th>25%</th>\n      <td>28.000000</td>\n      <td>1.175505e+05</td>\n      <td>9.000000</td>\n      <td>0.000000</td>\n      <td>0.000000</td>\n      <td>40.000000</td>\n    </tr>\n    <tr>\n      <th>50%</th>\n      <td>37.000000</td>\n      <td>1.781445e+05</td>\n      <td>10.000000</td>\n      <td>0.000000</td>\n      <td>0.000000</td>\n      <td>40.000000</td>\n    </tr>\n    <tr>\n      <th>75%</th>\n      <td>48.000000</td>\n      <td>2.376420e+05</td>\n      <td>12.000000</td>\n      <td>0.000000</td>\n      <td>0.000000</td>\n      <td>45.000000</td>\n    </tr>\n    <tr>\n      <th>max</th>\n      <td>90.000000</td>\n      <td>1.490400e+06</td>\n      <td>16.000000</td>\n      <td>99999.000000</td>\n      <td>4356.000000</td>\n      <td>99.000000</td>\n    </tr>\n  </tbody>\n</table>\n</div>"
     },
     "execution_count": 9,
     "metadata": {},
     "output_type": "execute_result"
    }
   ],
   "source": [
    "df.describe()"
   ],
   "metadata": {
    "collapsed": false,
    "ExecuteTime": {
     "end_time": "2024-03-28T02:33:31.221281800Z",
     "start_time": "2024-03-28T02:33:31.022062800Z"
    }
   },
   "id": "b76a933e72ebb8c1"
  },
  {
   "cell_type": "markdown",
   "source": [
    "# Data Cleaning"
   ],
   "metadata": {
    "collapsed": false
   },
   "id": "dd9656e963f0d882"
  },
  {
   "cell_type": "markdown",
   "source": [
    "## Handling Duplicate Values"
   ],
   "metadata": {
    "collapsed": false
   },
   "id": "2b90726ee3d1cf0d"
  },
  {
   "cell_type": "code",
   "execution_count": 23,
   "outputs": [
    {
     "name": "stdout",
     "output_type": "stream",
     "text": [
      "       age workclass  fnlwgt     education  education-num      marital-status  \\\n",
      "34229   19   Private  130431       5th-6th              3       Never-married   \n",
      "34415   22   Private  137876  Some-college             10       Never-married   \n",
      "36713   17   Private  153021          12th              8       Never-married   \n",
      "38343   21   Private  301694       HS-grad              9       Never-married   \n",
      "38468   41   Private  116391     Bachelors             13  Married-civ-spouse   \n",
      "39017   19   Private  139466  Some-college             10       Never-married   \n",
      "39911   30   Private  111567       HS-grad              9       Never-married   \n",
      "42386   25   Private  112835     Bachelors             13       Never-married   \n",
      "43387   23   Private  250630     Bachelors             13       Never-married   \n",
      "43484   23   Private  239539       HS-grad              9       Never-married   \n",
      "44307   47   Private  199058  Some-college             10  Married-civ-spouse   \n",
      "45049   39   Private  184659       HS-grad              9  Married-civ-spouse   \n",
      "46065   45   Private   82797     Bachelors             13  Married-civ-spouse   \n",
      "46714   21   Private  243368     Preschool              1       Never-married   \n",
      "46869   25   Private  308144     Bachelors             13       Never-married   \n",
      "46959   19   Private  318822       HS-grad              9       Never-married   \n",
      "47048   31   Private  228873       HS-grad              9  Married-civ-spouse   \n",
      "47399   43   Private  195258       HS-grad              9  Married-civ-spouse   \n",
      "47884   23   Private  107882     Bachelors             13       Never-married   \n",
      "\n",
      "              occupation   relationship                race     sex  \\\n",
      "34229    Farming-fishing  Not-in-family               White    Male   \n",
      "34415    Protective-serv  Not-in-family               White    Male   \n",
      "36713              Sales      Own-child               White  Female   \n",
      "38343       Craft-repair  Not-in-family               White    Male   \n",
      "38468    Exec-managerial        Husband               White    Male   \n",
      "39017              Sales      Own-child               White  Female   \n",
      "39911       Craft-repair      Own-child               White    Male   \n",
      "42386     Prof-specialty  Not-in-family               White    Male   \n",
      "43387              Sales  Not-in-family               White  Female   \n",
      "43484  Machine-op-inspct      Own-child  Asian-Pac-Islander    Male   \n",
      "44307     Prof-specialty        Husband               White    Male   \n",
      "45049  Machine-op-inspct        Husband               White    Male   \n",
      "46065    Exec-managerial        Husband               White    Male   \n",
      "46714    Farming-fishing  Not-in-family               White    Male   \n",
      "46869       Craft-repair  Not-in-family               White    Male   \n",
      "46959       Adm-clerical  Not-in-family               White  Female   \n",
      "47048       Craft-repair        Husband               White    Male   \n",
      "47399       Craft-repair        Husband               White    Male   \n",
      "47884       Adm-clerical      Own-child               White  Female   \n",
      "\n",
      "       capital-gain  capital-loss  hours-per-week native-country income  \n",
      "34229             0             0              36         Mexico  <=50K  \n",
      "34415             0             0              20  United-States  <=50K  \n",
      "36713             0             0              20  United-States  <=50K  \n",
      "38343             0             0              35         Mexico  <=50K  \n",
      "38468             0             0              40  United-States   >50K  \n",
      "39017             0             0              25  United-States  <=50K  \n",
      "39911             0             0              48  United-States  <=50K  \n",
      "42386             0             0              40  United-States  <=50K  \n",
      "43387             0             0              40  United-States  <=50K  \n",
      "43484             0             0              40    Philippines  <=50K  \n",
      "44307             0             0              40  United-States   >50K  \n",
      "45049             0             0              40  United-States  <=50K  \n",
      "46065             0             0              45  United-States   >50K  \n",
      "46714             0             0              50         Mexico  <=50K  \n",
      "46869             0             0              40         Mexico  <=50K  \n",
      "46959             0             0              40  United-States  <=50K  \n",
      "47048             0             0              40  United-States  <=50K  \n",
      "47399             0             0              40  United-States   >50K  \n",
      "47884             0             0              40  United-States  <=50K  \n"
     ]
    }
   ],
   "source": [
    "#Checking if there are any duplicate values in the dataset\n",
    "#Displaying duplicate values if there are any\n",
    "print(df[df.duplicated()])"
   ],
   "metadata": {
    "collapsed": false,
    "ExecuteTime": {
     "end_time": "2024-03-28T02:53:03.843233100Z",
     "start_time": "2024-03-28T02:53:03.573681200Z"
    }
   },
   "id": "a5d1b7175e5fc957"
  },
  {
   "cell_type": "markdown",
   "source": [
    "Since duplicate values exist, these should be removed."
   ],
   "metadata": {
    "collapsed": false
   },
   "id": "3a250849dee2d0ff"
  },
  {
   "cell_type": "code",
   "execution_count": 10,
   "outputs": [
    {
     "name": "stdout",
     "output_type": "stream",
     "text": [
      "Empty DataFrame\n",
      "Columns: [age, workclass, fnlwgt, education, education-num, marital-status, occupation, relationship, race, sex, capital-gain, capital-loss, hours-per-week, native-country, income]\n",
      "Index: []\n"
     ]
    }
   ],
   "source": [
    "#Removing the duplicate values\n",
    "df = df.drop_duplicates()"
   ],
   "metadata": {
    "collapsed": false,
    "ExecuteTime": {
     "end_time": "2024-03-28T02:33:31.435265600Z",
     "start_time": "2024-03-28T02:33:31.065430300Z"
    }
   },
   "id": "43acba7dbea7138f"
  },
  {
   "cell_type": "code",
   "execution_count": 11,
   "outputs": [
    {
     "data": {
      "text/plain": "age                  74\nworkclass             9\nfnlwgt            28523\neducation            16\neducation-num        16\nmarital-status        7\noccupation           15\nrelationship          6\nrace                  5\nsex                   2\ncapital-gain        123\ncapital-loss         99\nhours-per-week       96\nnative-country       42\nincome                4\ndtype: int64"
     },
     "execution_count": 11,
     "metadata": {},
     "output_type": "execute_result"
    }
   ],
   "source": [
    "#Checking for unique values\n",
    "unique_values = df.nunique()\n",
    "unique_values"
   ],
   "metadata": {
    "collapsed": false,
    "ExecuteTime": {
     "end_time": "2024-03-28T02:33:31.541714800Z",
     "start_time": "2024-03-28T02:33:31.199443900Z"
    }
   },
   "id": "58419666765c3ab1"
  },
  {
   "cell_type": "code",
   "execution_count": 12,
   "outputs": [
    {
     "name": "stdout",
     "output_type": "stream",
     "text": [
      "age\n",
      "[39 50 38 53 28 37 49 52 31 42 30 23 32 40 34 25 43 54 35 59 56 19 20 45\n",
      " 22 48 21 24 57 44 41 29 18 47 46 36 79 27 67 33 76 17 55 61 70 64 71 68\n",
      " 66 51 58 26 60 90 75 65 77 62 63 80 72 74 69 73 81 78 88 82 83 84 85 86\n",
      " 87 89]\n",
      "\n",
      "workclass\n",
      "['State-gov' 'Self-emp-not-inc' 'Private' 'Federal-gov' 'Local-gov' '?'\n",
      " 'Self-emp-inc' 'Without-pay' 'Never-worked' nan]\n",
      "\n",
      "fnlwgt\n",
      "[ 77516  83311 215646 ... 173449  89686 350977]\n",
      "\n",
      "education\n",
      "['Bachelors' 'HS-grad' '11th' 'Masters' '9th' 'Some-college' 'Assoc-acdm'\n",
      " 'Assoc-voc' '7th-8th' 'Doctorate' 'Prof-school' '5th-6th' '10th'\n",
      " '1st-4th' 'Preschool' '12th']\n",
      "\n",
      "education-num\n",
      "[13  9  7 14  5 10 12 11  4 16 15  3  6  2  1  8]\n",
      "\n",
      "marital-status\n",
      "['Never-married' 'Married-civ-spouse' 'Divorced' 'Married-spouse-absent'\n",
      " 'Separated' 'Married-AF-spouse' 'Widowed']\n",
      "\n",
      "occupation\n",
      "['Adm-clerical' 'Exec-managerial' 'Handlers-cleaners' 'Prof-specialty'\n",
      " 'Other-service' 'Sales' 'Craft-repair' 'Transport-moving'\n",
      " 'Farming-fishing' 'Machine-op-inspct' 'Tech-support' '?'\n",
      " 'Protective-serv' 'Armed-Forces' 'Priv-house-serv' nan]\n",
      "\n",
      "relationship\n",
      "['Not-in-family' 'Husband' 'Wife' 'Own-child' 'Unmarried' 'Other-relative']\n",
      "\n",
      "race\n",
      "['White' 'Black' 'Asian-Pac-Islander' 'Amer-Indian-Eskimo' 'Other']\n",
      "\n",
      "sex\n",
      "['Male' 'Female']\n",
      "\n",
      "capital-gain\n",
      "[ 2174     0 14084  5178  5013  2407 14344 15024  7688 34095  4064  4386\n",
      "  7298  1409  3674  1055  3464  2050  2176   594 20051  6849  4101  1111\n",
      "  8614  3411  2597 25236  4650  9386  2463  3103 10605  2964  3325  2580\n",
      "  3471  4865 99999  6514  1471  2329  2105  2885 25124 10520  2202  2961\n",
      " 27828  6767  2228  1506 13550  2635  5556  4787  3781  3137  3818  3942\n",
      "   914   401  2829  2977  4934  2062  2354  5455 15020  1424  3273 22040\n",
      "  4416  3908 10566   991  4931  1086  7430  6497   114  7896  2346  3418\n",
      "  3432  2907  1151  2414  2290 15831 41310  4508  2538  3456  6418  1848\n",
      "  3887  5721  9562  1455  2036  1831 11678  2936  2993  7443  6360  1797\n",
      "  1173  4687  6723  2009  6097  2653  1639 18481  7978  2387  5060  1264\n",
      "  7262  1731  6612]\n",
      "\n",
      "capital-loss\n",
      "[   0 2042 1408 1902 1573 1887 1719 1762 1564 2179 1816 1980 1977 1876\n",
      " 1340 2206 1741 1485 2339 2415 1380 1721 2051 2377 1669 2352 1672  653\n",
      " 2392 1504 2001 1590 1651 1628 1848 1740 2002 1579 2258 1602  419 2547\n",
      " 2174 2205 1726 2444 1138 2238  625  213 1539  880 1668 1092 1594 3004\n",
      " 2231 1844  810 2824 2559 2057 1974  974 2149 1825 1735 1258 2129 2603\n",
      " 2282  323 4356 2246 1617 1648 2489 3770 1755 3683 2267 2080 2457  155\n",
      " 3900 2201 1944 2467 2163 2754 2472 1411 1429 3175 1510 1870 1911 2465\n",
      " 1421]\n",
      "\n",
      "hours-per-week\n",
      "[40 13 16 45 50 80 30 35 60 20 52 44 15 25 38 43 55 48 58 32 70  2 22 56\n",
      " 41 28 36 24 46 42 12 65  1 10 34 75 98 33 54  8  6 64 19 18 72  5  9 47\n",
      " 37 21 26 14  4 59  7 99 53 39 62 57 78 90 66 11 49 84  3 17 68 27 85 31\n",
      " 51 77 63 23 87 88 73 89 97 94 29 96 67 82 86 91 81 76 92 61 74 95 79 69]\n",
      "\n",
      "native-country\n",
      "['United-States' 'Cuba' 'Jamaica' 'India' '?' 'Mexico' 'South'\n",
      " 'Puerto-Rico' 'Honduras' 'England' 'Canada' 'Germany' 'Iran'\n",
      " 'Philippines' 'Italy' 'Poland' 'Columbia' 'Cambodia' 'Thailand' 'Ecuador'\n",
      " 'Laos' 'Taiwan' 'Haiti' 'Portugal' 'Dominican-Republic' 'El-Salvador'\n",
      " 'France' 'Guatemala' 'China' 'Japan' 'Yugoslavia' 'Peru'\n",
      " 'Outlying-US(Guam-USVI-etc)' 'Scotland' 'Trinadad&Tobago' 'Greece'\n",
      " 'Nicaragua' 'Vietnam' 'Hong' 'Ireland' 'Hungary' 'Holand-Netherlands' nan]\n",
      "\n",
      "income\n",
      "['<=50K' '>50K' '<=50K.' '>50K.']\n"
     ]
    }
   ],
   "source": [
    "for columns in df:\n",
    "    print(columns)\n",
    "    print(df[columns].unique())\n",
    "    print()  "
   ],
   "metadata": {
    "collapsed": false,
    "ExecuteTime": {
     "end_time": "2024-03-28T02:33:31.544940500Z",
     "start_time": "2024-03-28T02:33:31.254757200Z"
    }
   },
   "id": "a1a0cdaed6aa4a2f"
  },
  {
   "cell_type": "code",
   "execution_count": 13,
   "outputs": [],
   "source": [
    "#Creating a copy of the dataframe since changes cannot be directly applied\n",
    "df = df.copy()"
   ],
   "metadata": {
    "collapsed": false,
    "ExecuteTime": {
     "end_time": "2024-03-28T02:33:31.568298600Z",
     "start_time": "2024-03-28T02:33:31.302786300Z"
    }
   },
   "id": "efde113905b156dc"
  },
  {
   "cell_type": "markdown",
   "source": [
    "## Handling unncessary symbols in values"
   ],
   "metadata": {
    "collapsed": false
   },
   "id": "a2e5dc1610ae6c85"
  },
  {
   "cell_type": "code",
   "execution_count": 14,
   "outputs": [],
   "source": [
    "#Removing the punctuation mark (\".\") in the income field\n",
    "for i in df.columns:\n",
    "    if df[i].dtype == 'object':\n",
    "        df[i] = df[i].str.replace(\".\",\"\")"
   ],
   "metadata": {
    "collapsed": false,
    "ExecuteTime": {
     "end_time": "2024-03-28T02:33:31.727455600Z",
     "start_time": "2024-03-28T02:33:31.334910700Z"
    }
   },
   "id": "e87cd3a613a50625"
  },
  {
   "cell_type": "markdown",
   "source": [
    "## Removing unncessary blank spaces in values"
   ],
   "metadata": {
    "collapsed": false
   },
   "id": "df161ba0e893730"
  },
  {
   "cell_type": "code",
   "execution_count": 16,
   "outputs": [],
   "source": [
    "#Removing the blank spaces in the object values\n",
    "for i in df.columns:\n",
    "    if df[i].dtype == 'object':\n",
    "        df[i] = df[i].str.strip(\" \")"
   ],
   "metadata": {
    "collapsed": false,
    "ExecuteTime": {
     "end_time": "2024-03-28T02:33:31.869683800Z",
     "start_time": "2024-03-28T02:33:31.503100900Z"
    }
   },
   "id": "2fe0e9ba7c903687"
  },
  {
   "cell_type": "markdown",
   "source": [
    "## Handling Missing Values"
   ],
   "metadata": {
    "collapsed": false
   },
   "id": "3467b910f9554f76"
  },
  {
   "cell_type": "code",
   "execution_count": null,
   "outputs": [],
   "source": [
    "#Replacing question mark symbols ('?') with 'NaN'\n",
    "df.replace('?', pd.NA, inplace=True)"
   ],
   "metadata": {
    "collapsed": false
   },
   "id": "19c8d312e7174017"
  },
  {
   "cell_type": "code",
   "execution_count": null,
   "outputs": [],
   "source": [
    "# Impute missing values with the most frequent value (mode) for categorical features\n",
    "for col in ['workclass', 'occupation', 'native-country', 'education']:\n",
    "    df[col].fillna(df[col].mode()[0], inplace=True)\n",
    "    \n",
    "    # Impute missing values with the median for numerical features # Impute missing values with the median for numerical features   \n",
    "for col in ['education-num', 'age']:\n",
    "    df[col].fillna(df[col].median(), inplace=True)"
   ],
   "metadata": {
    "collapsed": false
   },
   "id": "f05183270725d3c0"
  },
  {
   "cell_type": "code",
   "execution_count": 17,
   "outputs": [],
   "source": [
    "#Removing the 'NaN' values\n",
    "df.dropna(inplace=True)"
   ],
   "metadata": {
    "collapsed": false,
    "ExecuteTime": {
     "end_time": "2024-03-28T02:33:31.896529300Z",
     "start_time": "2024-03-28T02:33:31.612800300Z"
    }
   },
   "id": "db5631ed9ede359f"
  },
  {
   "cell_type": "code",
   "execution_count": 18,
   "outputs": [
    {
     "data": {
      "text/plain": "age               0\nworkclass         0\nfnlwgt            0\neducation         0\neducation-num     0\nmarital-status    0\noccupation        0\nrelationship      0\nrace              0\nsex               0\ncapital-gain      0\ncapital-loss      0\nhours-per-week    0\nnative-country    0\nincome            0\ndtype: int64"
     },
     "execution_count": 18,
     "metadata": {},
     "output_type": "execute_result"
    }
   ],
   "source": [
    "#Checking null values\n",
    "df.isna().sum()"
   ],
   "metadata": {
    "collapsed": false,
    "ExecuteTime": {
     "end_time": "2024-03-28T02:33:31.970608900Z",
     "start_time": "2024-03-28T02:33:31.661568600Z"
    }
   },
   "id": "9fc6ab0f880d7550"
  },
  {
   "cell_type": "code",
   "execution_count": null,
   "outputs": [],
   "source": [
    "category_counts = df.apply(lambda x: x.nunique())\n",
    "\n",
    "print(\"Number of categories in each column:\")\n",
    "print(category_counts)"
   ],
   "metadata": {
    "collapsed": false
   },
   "id": "a5c2c3f8a0f298f3"
  },
  {
   "cell_type": "code",
   "execution_count": 21,
   "outputs": [
    {
     "name": "stdout",
     "output_type": "stream",
     "text": [
      "<class 'pandas.core.frame.DataFrame'>\n",
      "Index: 45194 entries, 0 to 48841\n",
      "Data columns (total 15 columns):\n",
      " #   Column          Non-Null Count  Dtype \n",
      "---  ------          --------------  ----- \n",
      " 0   age             45194 non-null  int64 \n",
      " 1   workclass       45194 non-null  object\n",
      " 2   fnlwgt          45194 non-null  int64 \n",
      " 3   education       45194 non-null  object\n",
      " 4   education-num   45194 non-null  int64 \n",
      " 5   marital-status  45194 non-null  object\n",
      " 6   occupation      45194 non-null  object\n",
      " 7   relationship    45194 non-null  object\n",
      " 8   race            45194 non-null  object\n",
      " 9   sex             45194 non-null  object\n",
      " 10  capital-gain    45194 non-null  int64 \n",
      " 11  capital-loss    45194 non-null  int64 \n",
      " 12  hours-per-week  45194 non-null  int64 \n",
      " 13  native-country  45194 non-null  object\n",
      " 14  income          45194 non-null  object\n",
      "dtypes: int64(6), object(9)\n",
      "memory usage: 5.5+ MB\n"
     ]
    }
   ],
   "source": [
    "df.info()"
   ],
   "metadata": {
    "collapsed": false,
    "ExecuteTime": {
     "end_time": "2024-03-28T02:33:32.073554200Z",
     "start_time": "2024-03-28T02:33:31.867019700Z"
    }
   },
   "id": "fac057867f7aa0d3"
  },
  {
   "cell_type": "code",
   "execution_count": 22,
   "outputs": [
    {
     "data": {
      "text/plain": "       age         workclass  fnlwgt  education  education-num  \\\n0       39         State-gov   77516  Bachelors             13   \n1       50  Self-emp-not-inc   83311  Bachelors             13   \n2       38           Private  215646    HS-grad              9   \n3       53           Private  234721       11th              7   \n4       28           Private  338409  Bachelors             13   \n...    ...               ...     ...        ...            ...   \n48836   33           Private  245211  Bachelors             13   \n48837   39           Private  215419  Bachelors             13   \n48839   38           Private  374983  Bachelors             13   \n48840   44           Private   83891  Bachelors             13   \n48841   35      Self-emp-inc  182148  Bachelors             13   \n\n           marital-status         occupation   relationship  \\\n0           Never-married       Adm-clerical  Not-in-family   \n1      Married-civ-spouse    Exec-managerial        Husband   \n2                Divorced  Handlers-cleaners  Not-in-family   \n3      Married-civ-spouse  Handlers-cleaners        Husband   \n4      Married-civ-spouse     Prof-specialty           Wife   \n...                   ...                ...            ...   \n48836       Never-married     Prof-specialty      Own-child   \n48837            Divorced     Prof-specialty  Not-in-family   \n48839  Married-civ-spouse     Prof-specialty        Husband   \n48840            Divorced       Adm-clerical      Own-child   \n48841  Married-civ-spouse    Exec-managerial        Husband   \n\n                     race     sex  capital-gain  capital-loss  hours-per-week  \\\n0                   White    Male          2174             0              40   \n1                   White    Male             0             0              13   \n2                   White    Male             0             0              40   \n3                   Black    Male             0             0              40   \n4                   Black  Female             0             0              40   \n...                   ...     ...           ...           ...             ...   \n48836               White    Male             0             0              40   \n48837               White  Female             0             0              36   \n48839               White    Male             0             0              50   \n48840  Asian-Pac-Islander    Male          5455             0              40   \n48841               White    Male             0             0              60   \n\n      native-country income  \n0      United-States  <=50K  \n1      United-States  <=50K  \n2      United-States  <=50K  \n3      United-States  <=50K  \n4               Cuba  <=50K  \n...              ...    ...  \n48836  United-States  <=50K  \n48837  United-States  <=50K  \n48839  United-States  <=50K  \n48840  United-States  <=50K  \n48841  United-States   >50K  \n\n[45194 rows x 15 columns]",
      "text/html": "<div>\n<style scoped>\n    .dataframe tbody tr th:only-of-type {\n        vertical-align: middle;\n    }\n\n    .dataframe tbody tr th {\n        vertical-align: top;\n    }\n\n    .dataframe thead th {\n        text-align: right;\n    }\n</style>\n<table border=\"1\" class=\"dataframe\">\n  <thead>\n    <tr style=\"text-align: right;\">\n      <th></th>\n      <th>age</th>\n      <th>workclass</th>\n      <th>fnlwgt</th>\n      <th>education</th>\n      <th>education-num</th>\n      <th>marital-status</th>\n      <th>occupation</th>\n      <th>relationship</th>\n      <th>race</th>\n      <th>sex</th>\n      <th>capital-gain</th>\n      <th>capital-loss</th>\n      <th>hours-per-week</th>\n      <th>native-country</th>\n      <th>income</th>\n    </tr>\n  </thead>\n  <tbody>\n    <tr>\n      <th>0</th>\n      <td>39</td>\n      <td>State-gov</td>\n      <td>77516</td>\n      <td>Bachelors</td>\n      <td>13</td>\n      <td>Never-married</td>\n      <td>Adm-clerical</td>\n      <td>Not-in-family</td>\n      <td>White</td>\n      <td>Male</td>\n      <td>2174</td>\n      <td>0</td>\n      <td>40</td>\n      <td>United-States</td>\n      <td>&lt;=50K</td>\n    </tr>\n    <tr>\n      <th>1</th>\n      <td>50</td>\n      <td>Self-emp-not-inc</td>\n      <td>83311</td>\n      <td>Bachelors</td>\n      <td>13</td>\n      <td>Married-civ-spouse</td>\n      <td>Exec-managerial</td>\n      <td>Husband</td>\n      <td>White</td>\n      <td>Male</td>\n      <td>0</td>\n      <td>0</td>\n      <td>13</td>\n      <td>United-States</td>\n      <td>&lt;=50K</td>\n    </tr>\n    <tr>\n      <th>2</th>\n      <td>38</td>\n      <td>Private</td>\n      <td>215646</td>\n      <td>HS-grad</td>\n      <td>9</td>\n      <td>Divorced</td>\n      <td>Handlers-cleaners</td>\n      <td>Not-in-family</td>\n      <td>White</td>\n      <td>Male</td>\n      <td>0</td>\n      <td>0</td>\n      <td>40</td>\n      <td>United-States</td>\n      <td>&lt;=50K</td>\n    </tr>\n    <tr>\n      <th>3</th>\n      <td>53</td>\n      <td>Private</td>\n      <td>234721</td>\n      <td>11th</td>\n      <td>7</td>\n      <td>Married-civ-spouse</td>\n      <td>Handlers-cleaners</td>\n      <td>Husband</td>\n      <td>Black</td>\n      <td>Male</td>\n      <td>0</td>\n      <td>0</td>\n      <td>40</td>\n      <td>United-States</td>\n      <td>&lt;=50K</td>\n    </tr>\n    <tr>\n      <th>4</th>\n      <td>28</td>\n      <td>Private</td>\n      <td>338409</td>\n      <td>Bachelors</td>\n      <td>13</td>\n      <td>Married-civ-spouse</td>\n      <td>Prof-specialty</td>\n      <td>Wife</td>\n      <td>Black</td>\n      <td>Female</td>\n      <td>0</td>\n      <td>0</td>\n      <td>40</td>\n      <td>Cuba</td>\n      <td>&lt;=50K</td>\n    </tr>\n    <tr>\n      <th>...</th>\n      <td>...</td>\n      <td>...</td>\n      <td>...</td>\n      <td>...</td>\n      <td>...</td>\n      <td>...</td>\n      <td>...</td>\n      <td>...</td>\n      <td>...</td>\n      <td>...</td>\n      <td>...</td>\n      <td>...</td>\n      <td>...</td>\n      <td>...</td>\n      <td>...</td>\n    </tr>\n    <tr>\n      <th>48836</th>\n      <td>33</td>\n      <td>Private</td>\n      <td>245211</td>\n      <td>Bachelors</td>\n      <td>13</td>\n      <td>Never-married</td>\n      <td>Prof-specialty</td>\n      <td>Own-child</td>\n      <td>White</td>\n      <td>Male</td>\n      <td>0</td>\n      <td>0</td>\n      <td>40</td>\n      <td>United-States</td>\n      <td>&lt;=50K</td>\n    </tr>\n    <tr>\n      <th>48837</th>\n      <td>39</td>\n      <td>Private</td>\n      <td>215419</td>\n      <td>Bachelors</td>\n      <td>13</td>\n      <td>Divorced</td>\n      <td>Prof-specialty</td>\n      <td>Not-in-family</td>\n      <td>White</td>\n      <td>Female</td>\n      <td>0</td>\n      <td>0</td>\n      <td>36</td>\n      <td>United-States</td>\n      <td>&lt;=50K</td>\n    </tr>\n    <tr>\n      <th>48839</th>\n      <td>38</td>\n      <td>Private</td>\n      <td>374983</td>\n      <td>Bachelors</td>\n      <td>13</td>\n      <td>Married-civ-spouse</td>\n      <td>Prof-specialty</td>\n      <td>Husband</td>\n      <td>White</td>\n      <td>Male</td>\n      <td>0</td>\n      <td>0</td>\n      <td>50</td>\n      <td>United-States</td>\n      <td>&lt;=50K</td>\n    </tr>\n    <tr>\n      <th>48840</th>\n      <td>44</td>\n      <td>Private</td>\n      <td>83891</td>\n      <td>Bachelors</td>\n      <td>13</td>\n      <td>Divorced</td>\n      <td>Adm-clerical</td>\n      <td>Own-child</td>\n      <td>Asian-Pac-Islander</td>\n      <td>Male</td>\n      <td>5455</td>\n      <td>0</td>\n      <td>40</td>\n      <td>United-States</td>\n      <td>&lt;=50K</td>\n    </tr>\n    <tr>\n      <th>48841</th>\n      <td>35</td>\n      <td>Self-emp-inc</td>\n      <td>182148</td>\n      <td>Bachelors</td>\n      <td>13</td>\n      <td>Married-civ-spouse</td>\n      <td>Exec-managerial</td>\n      <td>Husband</td>\n      <td>White</td>\n      <td>Male</td>\n      <td>0</td>\n      <td>0</td>\n      <td>60</td>\n      <td>United-States</td>\n      <td>&gt;50K</td>\n    </tr>\n  </tbody>\n</table>\n<p>45194 rows × 15 columns</p>\n</div>"
     },
     "execution_count": 22,
     "metadata": {},
     "output_type": "execute_result"
    }
   ],
   "source": [
    "for columns in df:\n",
    "    print(columns)\n",
    "    print(df[columns].unique())\n",
    "    print()  "
   ],
   "metadata": {
    "collapsed": false,
    "ExecuteTime": {
     "end_time": "2024-03-28T02:33:32.096023100Z",
     "start_time": "2024-03-28T02:33:31.913385200Z"
    }
   },
   "id": "aff28b186ee6e9c2"
  },
  {
   "cell_type": "code",
   "execution_count": null,
   "outputs": [],
   "source": [],
   "metadata": {
    "collapsed": false
   },
   "id": "13f2ec86c6a5e1eb"
  },
  {
   "cell_type": "markdown",
   "source": [
    "# Data Visualization"
   ],
   "metadata": {
    "collapsed": false
   },
   "id": "4ce6265118c3c390"
  },
  {
   "cell_type": "code",
   "execution_count": 24,
   "outputs": [
    {
     "data": {
      "text/plain": "<Figure size 1000x600 with 1 Axes>",
      "image/png": "[encoded data removed]"
     },
     "metadata": {},
     "output_type": "display_data"
    }
   ],
   "source": [
    "import seaborn as sns\n",
    "import matplotlib.pyplot as plt\n",
    "\n",
    "# Plot bar plots for selected categorical features\n",
    "plt.figure(figsize=(10, 6))\n",
    "\n",
    "# Example: Plotting frequency distribution of 'education' feature\n",
    "sns.countplot(x='education', data=df)\n",
    "plt.xticks(rotation=45)  # Angle x-axis labels for better readability\n",
    "plt.title('Frequency Distribution of Education')\n",
    "plt.xlabel('Education Level')   \n",
    "plt.ylabel('Frequency')\n",
    "plt.show()"
   ],
   "metadata": {
    "collapsed": false,
    "ExecuteTime": {
     "end_time": "2024-03-28T10:16:55.975183400Z",
     "start_time": "2024-03-28T10:16:54.340573500Z"
    }
   },
   "id": "c626a8e62649b432"
  },
  {
   "cell_type": "code",
   "execution_count": 31,
   "outputs": [],
   "source": [
    "#getting the count for each education category\n",
    "Education_data=df['education'].value_counts()\n",
    "order1= list(Education_data.index)\n",
    "\n",
    "EducationNum_data=df['education-num'].value_counts()\n",
    "order2= list(EducationNum_data.index)"
   ],
   "metadata": {
    "collapsed": false,
    "ExecuteTime": {
     "end_time": "2024-03-28T12:28:39.177265500Z",
     "start_time": "2024-03-28T12:28:39.117214400Z"
    }
   },
   "id": "fd762106e4cef282"
  },
  {
   "cell_type": "code",
   "execution_count": 32,
   "outputs": [
    {
     "data": {
      "text/plain": "<Figure size 1300x600 with 2 Axes>",
      "image/png": "[encoded data removed]"
     },
     "metadata": {},
     "output_type": "display_data"
    }
   ],
   "source": [
    "# Plotting the count bar plots\n",
    "plt.figure(figsize=(13, 6))\n",
    "\n",
    "# Plot for the first subplot\n",
    "plt.subplot(1, 2, 1)\n",
    "plot1 = sns.countplot(data=df, x='education', hue='income', order=order1, palette='coolwarm', hue_order=['<=50K', '>50K'])\n",
    "plt.title('Count by Education', fontsize=18)\n",
    "plt.xticks(rotation=75)\n",
    "\n",
    "# Plot for the second subplot\n",
    "plt.subplot(1, 2, 2)\n",
    "plot2 = sns.countplot(data=df, x='education-num', hue='income', order=order2, palette='coolwarm', hue_order=['<=50K', '>50K'])\n",
    "plt.title('Count by Education Number', fontsize=18)\n",
    "\n",
    "# Remove the legend for the first subplot\n",
    "plot1.legend_.remove()\n",
    "\n",
    "# Show the plots\n",
    "plt.tight_layout()\n",
    "plt.show()"
   ],
   "metadata": {
    "collapsed": false,
    "ExecuteTime": {
     "end_time": "2024-03-28T12:28:45.573681900Z",
     "start_time": "2024-03-28T12:28:42.757179700Z"
    }
   },
   "id": "cfd1e061c8a64a31"
  },
  {
   "cell_type": "code",
   "execution_count": null,
   "outputs": [],
   "source": [
    "df.drop('education', axis=1, inplace=True)"
   ],
   "metadata": {
    "collapsed": false
   },
   "id": "67f3ca4d896219c0"
  },
  {
   "cell_type": "markdown",
   "source": [
    "## Handling Outliers"
   ],
   "metadata": {
    "collapsed": false
   },
   "id": "89a87ed34318fa41"
  },
  {
   "cell_type": "markdown",
   "source": [
    "### Outliers in the 'age' feature"
   ],
   "metadata": {
    "collapsed": false
   },
   "id": "aee428763dce22e7"
  },
  {
   "cell_type": "code",
   "execution_count": null,
   "outputs": [],
   "source": [
    "#Displaying the 'age' feature in a boxplot\n",
    "plt.figure(figsize=(8, 6))\n",
    "plt.boxplot(df['age'])\n",
    "plt.title('Box plot - age data')\n",
    "plt.xlabel('Age')\n",
    "plt.ylabel('Values')\n",
    "plt.show()"
   ],
   "metadata": {
    "collapsed": false
   },
   "id": "e6534cb3cb492a3"
  },
  {
   "cell_type": "code",
   "execution_count": null,
   "outputs": [],
   "source": [
    "# Upper Bound of the Dataset\n",
    "\n",
    "# Calculate Q1, Q3, and IQR\n",
    "Q1 = df['age'].quantile(0.25)\n",
    "Q3 = df['age'].quantile(0.75)\n",
    "IQR = Q3 - Q1\n",
    "\n",
    "# Compute upper whisker value\n",
    "upper_whisker = Q3 + 1.5 * IQR\n",
    "\n",
    "# Find the highest data point within the upper whisker range\n",
    "upper_bound_data = df['age'][df['age'] <= upper_whisker].max()\n",
    "\n",
    "print(\"Upper bound within the boxplot:\", upper_bound_data)"
   ],
   "metadata": {
    "collapsed": false
   },
   "id": "8f6ffce35c34f547"
  },
  {
   "cell_type": "code",
   "execution_count": null,
   "outputs": [],
   "source": [
    "# Visualizing the Data of people above age 75\n",
    "above75_high_income = df[(df['age'] >= 75) & (df['income'] == '>50K')]['age'].value_counts()\n",
    "above75_low_income = df[(df['age'] >= 75) & (df['income'] == '<=50K')]['age'].value_counts()\n",
    "print(f'people who earn more than 50k and above the age 75:- {above75_high_income.sum()}')\n",
    "print(f'people who earn below 50k and above the age 75:- {above75_low_income.sum()}')"
   ],
   "metadata": {
    "collapsed": false
   },
   "id": "3937f2307b81337"
  },
  {
   "cell_type": "code",
   "execution_count": null,
   "outputs": [],
   "source": [
    "# Let's check how people will earn throughout the aging with KDE (Kernal Density Estimation)\n",
    "above50k_earn = df[df['income'] == '>50K']['age']\n",
    "plt.figure(figsize=(22, 5))\n",
    "plt.title(\"people who earn more than 50k throughout the ages\")\n",
    "sns.histplot(above50k_earn,kde=True, label=column)\n",
    "\n",
    "below50k_earn = df[df['income'] == '<=50K']['age']\n",
    "plt.figure(figsize=(22, 5))\n",
    "plt.title(\"people who earn less than 50k throughout the ages\")\n",
    "sns.histplot(below50k_earn,kde=True, label=column)"
   ],
   "metadata": {
    "collapsed": false
   },
   "id": "73a2c9739c4f9fdd"
  },
  {
   "cell_type": "code",
   "execution_count": null,
   "outputs": [],
   "source": [
    "# Let's drop the outliers of the people who earn more than 50K and see the distribution as well as the boxplot\n",
    "df = df.drop(df[(df['age'] >= 75) & (df['income'] == '>50K')].index)\n",
    "\n",
    "# Distribution\n",
    "above50k_earn = df[df['income'] == '>50K']['age']\n",
    "plt.figure(figsize=(28, 6))\n",
    "plt.title(\"people who earn more than 50k throughout out the ages\")\n",
    "sns.histplot(above50k_earn,kde=True, label=column)"
   ],
   "metadata": {
    "collapsed": false
   },
   "id": "beb5fefe9c79b8e7"
  },
  {
   "cell_type": "code",
   "execution_count": null,
   "outputs": [],
   "source": [
    "df = df.drop(df[(df['age'] >= 75) & (df['income'] == '<=50K')].index)\n",
    "below50k_earn = df[df['income'] == '<=50K']['age']\n",
    "plt.figure(figsize=(22, 5))\n",
    "plt.title(\"people who earn less than 50k throughout the ages\")\n",
    "sns.histplot(below50k_earn,kde=True, label=column)"
   ],
   "metadata": {
    "collapsed": false
   },
   "id": "2ca14f52b714813e"
  },
  {
   "cell_type": "code",
   "execution_count": null,
   "outputs": [],
   "source": [
    "# Boxplot after cleaning the outliers\n",
    "# Create a box plot for age feature\n",
    "plt.figure(figsize=(8, 6))\n",
    "plt.boxplot(df['age'])\n",
    "plt.title('Box plot of age data')\n",
    "plt.xlabel('age')\n",
    "plt.ylabel('Values')\n",
    "plt.show()"
   ],
   "metadata": {
    "collapsed": false
   },
   "id": "93c1769cf5196cc0"
  },
  {
   "cell_type": "markdown",
   "source": [
    "### Outliers in the 'fnlwgt' (Final Weight) feature"
   ],
   "metadata": {
    "collapsed": false
   },
   "id": "66b25ed8f1f77dfc"
  },
  {
   "cell_type": "code",
   "execution_count": null,
   "outputs": [],
   "source": [
    "# Boxplot to see outliers of the final weight column\n",
    "# Create a box plot for fnlwgt feature\n",
    "plt.figure(figsize=(8, 6))\n",
    "plt.boxplot(df['fnlwgt'])\n",
    "plt.title('Box plot - Final Weight data')\n",
    "plt.xlabel('Final Weight')\n",
    "plt.ylabel('Values')\n",
    "plt.show()"
   ],
   "metadata": {
    "collapsed": false
   },
   "id": "5ba978d2642c212e"
  },
  {
   "cell_type": "code",
   "execution_count": null,
   "outputs": [],
   "source": [
    "# Upper Bound of the Dataset\n",
    "\n",
    "# Calculate Q1, Q3, and IQR\n",
    "Q1 = df['fnlwgt'].quantile(0.25)\n",
    "Q3 = df['fnlwgt'].quantile(0.75)\n",
    "IQR = Q3 - Q1\n",
    "\n",
    "# Compute upper whisker value\n",
    "upper_whisker = Q3 + 1.5 * IQR\n",
    "\n",
    "# Find the highest data point within the upper whisker range\n",
    "upper_bound_data = df['fnlwgt'][df['fnlwgt'] <= upper_whisker].max()\n",
    "\n",
    "print(\"Upper bound within the boxplot:\", upper_bound_data)\n",
    "\n",
    "# Number of records upper the bound of the dataset\\\n",
    "fnlwgt_outliers = df[df['fnlwgt'] >= 417419].value_counts().sum()\n",
    "print(f'number of outliers :- {fnlwgt_outliers}')"
   ],
   "metadata": {
    "collapsed": false
   },
   "id": "df0f3d69054ee77"
  },
  {
   "cell_type": "code",
   "execution_count": null,
   "outputs": [],
   "source": [
    "# Removing the final weight outliers\n",
    "adult_dataset = df.drop(df[df['fnlwgt'] >= 417419].index)"
   ],
   "metadata": {
    "collapsed": false
   },
   "id": "ec751d7ed6fd2c0c"
  },
  {
   "cell_type": "code",
   "execution_count": null,
   "outputs": [],
   "source": [
    "# Boxplot to see outliers of the final weight column\n",
    "# Create a box plot for fnlwgt feature\n",
    "plt.figure(figsize=(8, 6))\n",
    "plt.boxplot(adult_dataset['fnlwgt'])\n",
    "plt.title('Box plot of final weight data')\n",
    "plt.xlabel('final weight')\n",
    "plt.ylabel('Values')\n",
    "plt.show()"
   ],
   "metadata": {
    "collapsed": false
   },
   "id": "c128706709bfb4a8"
  },
  {
   "cell_type": "markdown",
   "source": [
    "### Outliers in the 'hours-per-week' feature"
   ],
   "metadata": {
    "collapsed": false
   },
   "id": "65175fb0e0e5d36d"
  },
  {
   "cell_type": "code",
   "execution_count": null,
   "outputs": [],
   "source": [
    "# Create a box plot for working hours feature\n",
    "plt.figure(figsize=(8, 6))\n",
    "plt.boxplot(df['hours-per-week'])\n",
    "plt.title('Box plot - working hours data')\n",
    "plt.xlabel('hours-per-week')\n",
    "plt.ylabel('Values')\n",
    "plt.show()"
   ],
   "metadata": {
    "collapsed": false
   },
   "id": "9958bdc1f62b1923"
  },
  {
   "cell_type": "markdown",
   "source": [
    "## Encoding Lables"
   ],
   "metadata": {
    "collapsed": false
   },
   "id": "60c1b21e8d4d44eb"
  },
  {
   "cell_type": "code",
   "execution_count": null,
   "outputs": [],
   "source": [
    "#Defining the categorical columns to be encoded\n",
    "categorical_columns = ['workclass','education','marital-status','occupation','relationship','race','sex','income']\n",
    "\n",
    "# Initialize LabelEncoder\n",
    "label_encoder = LabelEncoder()\n",
    "\n",
    "# Apply LabelEncoder to each categorical column\n",
    "for column in categorical_columns:\n",
    "    df[column] = label_encoder.fit_transform(df[column])"
   ],
   "metadata": {
    "collapsed": false
   },
   "id": "c029f93071fc756"
  },
  {
   "cell_type": "markdown",
   "source": [
    "# Splitting of Data"
   ],
   "metadata": {
    "collapsed": false
   },
   "id": "7835485bcebea4c0"
  },
  {
   "cell_type": "code",
   "execution_count": null,
   "outputs": [],
   "source": [
    "# Split data into features and target\n",
    "X = df.drop('income', axis=1)\n",
    "y = df['income']\n",
    "\n",
    "from sklearn.model_selection import train_test_split\n",
    "# Split data into training and testing sets\n",
    "X_train, X_test, y_train, y_test = train_test_split(X, y, test_size=0.2, random_state=42)"
   ],
   "metadata": {
    "collapsed": false
   },
   "id": "e89c23a59fbde388"
  },
  {
   "cell_type": "code",
   "execution_count": null,
   "outputs": [],
   "source": [
    "# Calculate the correlation matrix\n",
    "correlation_matrix = df.corr()\n",
    "\n",
    "# Plot the correlation matrix as a heatmap with contrasting colors\n",
    "plt.figure(figsize=(10, 8))\n",
    "sns.heatmap(correlation_matrix, annot=True, cmap='coolwarm', fmt=\".2f\", linewidths=.5)\n",
    "plt.title('Correlation Matrix')\n",
    "plt.show()"
   ],
   "metadata": {
    "collapsed": false
   },
   "id": "6f65a0100cb02904"
  },
  {
   "cell_type": "markdown",
   "source": [
    "# Model Training"
   ],
   "metadata": {
    "collapsed": false
   },
   "id": "89558e352674acca"
  },
  {
   "cell_type": "code",
   "execution_count": null,
   "outputs": [],
   "source": [
    "# Step 2: Model Training\n",
    "# Train Naïve Bayes model\n",
    "nb_model = GaussianNB()\n",
    "nb_model.fit(X_train, y_train)\n",
    "\n",
    "from sklearn.ensemble import RandomForestClassifier\n",
    "# Train Random Forest model\n",
    "rf_model = RandomForestClassifier(random_state=42)\n",
    "rf_model.fit(X_train, y_train)"
   ],
   "metadata": {
    "collapsed": false
   },
   "id": "335d12cb2c6d9af8"
  },
  {
   "cell_type": "code",
   "execution_count": null,
   "outputs": [],
   "source": [
    "#Step 3: Model Evaluation\n",
    "# Evaluate Naïve Bayes model\n",
    "nb_pred = nb_model.predict(X_test)\n",
    "nb_accuracy = accuracy_score(y_test, nb_pred)\n",
    "print(\"Naïve Bayes Accuracy:\", nb_accuracy)\n",
    "print(\"Naïve Bayes Classification Report:\\n\", classification_report(y_test, nb_pred))\n",
    "print(\"Naïve Bayes Confusion Matrix:\\n\", confusion_matrix(y_test, nb_pred))"
   ],
   "metadata": {
    "collapsed": false
   },
   "id": "bf64348fe8e7a541"
  },
  {
   "cell_type": "code",
   "execution_count": null,
   "outputs": [],
   "source": [
    "# Evaluate Random Forest model\n",
    "rf_pred = rf_model.predict(X_test)\n",
    "rf_accuracy = accuracy_score(y_test, rf_pred)\n",
    "print(\"\\nRandom Forest Accuracy:\", rf_accuracy)\n",
    "print(\"Random Forest Classification Report:\\n\", classification_report(y_test, rf_pred))\n",
    "print(\"Random Forest Confusion Matrix:\\n\", confusion_matrix(y_test, rf_pred))"
   ],
   "metadata": {
    "collapsed": false
   },
   "id": "a73b1a9043940f36"
  },
  {
   "cell_type": "code",
   "execution_count": null,
   "outputs": [],
   "source": [
    "# Step 4: Model Comparison\n",
    "print(\"\\nModel Comparison:\")\n",
    "print(\"Naïve Bayes Accuracy:\", nb_accuracy)\n",
    "print(\"Random Forest Accuracy:\", rf_accuracy)"
   ],
   "metadata": {
    "collapsed": false
   },
   "id": "390eff3744aaaf4e"
  },
  {
   "cell_type": "markdown",
   "source": [
    "## Applying the Principal Component Analysis (PCA)"
   ],
   "metadata": {
    "collapsed": false
   },
   "id": "2fb9499e4346284b"
  },
  {
   "cell_type": "code",
   "execution_count": null,
   "outputs": [],
   "source": [
    "from sklearn.decomposition import PCA\n",
    "\n",
    "pca = PCA()\n",
    "pca.fit(df.drop(columns=[\"income\"]))"
   ],
   "metadata": {
    "collapsed": false
   },
   "id": "403ba3c3b0a74b6c"
  },
  {
   "cell_type": "code",
   "execution_count": null,
   "outputs": [],
   "source": [
    "cumulative_variance = np.cumsum(pca.explained_variance_ratio_)\n",
    "\n",
    "num_components = np.argmax(cumulative_variance >= 0.95) + 1\n",
    "\n",
    "print(\"Number of components to capture 95% of variance :\", num_components)"
   ],
   "metadata": {
    "collapsed": false
   },
   "id": "9df8e76784c0501b"
  },
  {
   "cell_type": "code",
   "execution_count": null,
   "outputs": [],
   "source": [
    "import matplotlib.pyplot as plt\n",
    "\n",
    "plt.figure(figsize=(8, 6))\n",
    "plt.plot(cumulative_variance, marker='o', linestyle='-', color='b')\n",
    "plt.xlabel('Number of Components')\n",
    "plt.ylabel('Cumulative Explained Variance')\n",
    "plt.title('Explained Variance Ratio')\n",
    "plt.axvline(x= num_components, color='r', linestyle='--', label=f'{num_components} components (95% variance)')\n",
    "plt.legend()\n",
    "plt.grid(True)\n",
    "plt.show()"
   ],
   "metadata": {
    "collapsed": false
   },
   "id": "66f84dfeac2c87e9"
  },
  {
   "cell_type": "code",
   "execution_count": null,
   "outputs": [],
   "source": [
    "import seaborn as sns\n",
    "\n",
    "correlation = df.corr()\n",
    "plt.figure(figsize=(12, 10))\n",
    "sns.heatmap(correlation, vmax=0.8, square=True, annot=True, cmap='coolwarm')\n",
    "plt.title('Correlation Matrix')\n",
    "plt.show()"
   ],
   "metadata": {
    "collapsed": false
   },
   "id": "e6381447e86106b0"
  },
  {
   "cell_type": "code",
   "execution_count": null,
   "outputs": [],
   "source": [
    "pca = PCA()\n",
    "principalComponents = pca.fit_transform(df)\n",
    "plt.figure()\n",
    "plt.plot(np.cumsum(pca.explained_variance_ratio_))\n",
    "plt.xlabel('Number of Components')\n",
    "plt.ylabel('Variance (%)') #for each component\n",
    "plt.title('Explained Variance')\n",
    "plt.show()"
   ],
   "metadata": {
    "collapsed": false
   },
   "id": "bd50009759ebb3f0"
  },
  {
   "cell_type": "code",
   "execution_count": null,
   "outputs": [],
   "source": [
    "pca = PCA(n_components=9)\n",
    "new_data = pca.fit_transform(df)\n",
    "# This will be the new data fed to the algorithm.\n",
    "principal_Df = pd.DataFrame(df = new_data\n",
    "             , columns = ['principal component 1', 'principal component 2','principal component 3','principal component 4','principal component 5','principal component 6','principal component 7','principal component 8','principal component 9'])"
   ],
   "metadata": {
    "collapsed": false
   },
   "id": "aeaf677a3f6fd917"
  },
  {
   "cell_type": "code",
   "execution_count": null,
   "outputs": [],
   "source": [
    "principal_Df.head()"
   ],
   "metadata": {
    "collapsed": false
   },
   "id": "6c746aa6a0d41898"
  },
  {
   "cell_type": "code",
   "execution_count": null,
   "outputs": [],
   "source": [
    "# X = df[[\"age\", \"workclass\", \"fnlwgt\", \"education\", \"education-num\", \"marital-status\", \n",
    "#            \"occupation\", \"relationship\", \"race\", \"sex\", \n",
    "#            \"hours-per-week\"]]\n",
    "# y =  df[\"income\"]"
   ],
   "metadata": {
    "collapsed": false
   },
   "id": "8983964ba5eb4683"
  },
  {
   "cell_type": "code",
   "execution_count": null,
   "outputs": [],
   "source": [
    "X = principal_Df\n",
    "y = df[\"income\"]"
   ],
   "metadata": {
    "collapsed": false
   },
   "id": "775fe5af636233f3"
  },
  {
   "cell_type": "code",
   "execution_count": null,
   "outputs": [],
   "source": [
    "X_train,X_test,y_train,y_test = train_test_split(X,y,test_size=1/3,random_state=42)"
   ],
   "metadata": {
    "collapsed": false
   },
   "id": "cfcb79bfdeabb4fb"
  },
  {
   "cell_type": "code",
   "execution_count": null,
   "outputs": [],
   "source": [
    "# Train Naïve Bayes model\n",
    "nb_model = GaussianNB()\n",
    "nb_model.fit(X_train, y_train)\n",
    "nb_pred = nb_model.predict(X_test)\n",
    "\n",
    "# Train Random Forest model\n",
    "rf_model = RandomForestClassifier(random_state=42)\n",
    "rf_model.fit(X_train, y_train)\n",
    "rf_pred = rf_model.predict(X_test)\n",
    "\n",
    "# Evaluate models\n",
    "print(\"Naïve Bayes Model:\")\n",
    "print(classification_report(y_test, nb_pred))\n",
    "print(\"Accuracy:\", accuracy_score(y_test, nb_pred))\n",
    "\n",
    "print(\"\\nRandom Forest Model:\")\n",
    "print(classification_report(y_test, rf_pred))\n",
    "print(\"Accuracy:\", accuracy_score(y_test, rf_pred))"
   ],
   "metadata": {
    "collapsed": false
   },
   "id": "4fc29d8927d77aaa"
  },
  {
   "cell_type": "code",
   "execution_count": null,
   "outputs": [],
   "source": [
    "# Calculate the confusion matrix\n",
    "cm = confusion_matrix(y_test, nb_pred)\n",
    "\n",
    "# Print the confusion matrix\n",
    "print(\"Confusion Matrix:\")\n",
    "print(cm)"
   ],
   "metadata": {
    "collapsed": false
   },
   "id": "162b2023361770e9"
  },
  {
   "cell_type": "code",
   "execution_count": null,
   "outputs": [],
   "source": [
    "df[\"income\"].value_counts()"
   ],
   "metadata": {
    "collapsed": false
   },
   "id": "d7a280fb201fbd22"
  }
 ],
 "metadata": {
  "kernelspec": {
   "display_name": "Python 3",
   "language": "python",
   "name": "python3"
  },
  "language_info": {
   "codemirror_mode": {
    "name": "ipython",
    "version": 2
   },
   "file_extension": ".py",
   "mimetype": "text/x-python",
   "name": "python",
   "nbconvert_exporter": "python",
   "pygments_lexer": "ipython2",
   "version": "2.7.6"
  }
 },
 "nbformat": 4,
 "nbformat_minor": 5
}
